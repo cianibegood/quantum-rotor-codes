{
 "cells": [
  {
   "cell_type": "markdown",
   "id": "b585d2d3",
   "metadata": {},
   "source": [
    "# Bacon-Shor rotor code\n",
    "\n",
    "This notebook can be used to obtain the data to generate Fig. 8 in the paper.\n",
    "\n",
    "We study the Bacon-Shor rotor code. We know that obtaining the eigenvalues of the associated Hamiltonian can be mapped to solving an effective Cooper-pair Box (CPB) with the following Hamiltonian\n",
    "\n",
    "$$\n",
    "H_{BS-eff} = 2 \\biggl(\\hat{l} - \\frac{s_z}{2} \\biggr)^2 + \\frac{s_z^2}{2} - 2 \\cos \\biggl(\\frac{\\phi_x}{2} \\biggr) \\cos \\hat{\\theta}.\n",
    "$$\n",
    "\n",
    "We want to obtain the spectrum as a function of the parameters $s_z \\in \\mathbb{Z}$ and $\\phi_x \\in [0, 2 \\pi)$. Notice that only $s_z=0, 1$ matter."
   ]
  },
  {
   "cell_type": "code",
   "execution_count": 1,
   "id": "aa1e5c0f",
   "metadata": {},
   "outputs": [],
   "source": [
    "import numpy as np\n",
    "from typing import Dict, Union\n",
    "import time\n",
    "from pysqkit.qubits import CooperPairBox\n",
    "import json"
   ]
  },
  {
   "cell_type": "code",
   "execution_count": 2,
   "id": "ebb8f6ad",
   "metadata": {},
   "outputs": [],
   "source": [
    "def get_energy_levels(\n",
    "    phi_x: float,\n",
    "    num_levels: int,\n",
    "    s_z: int,\n",
    "    dim_hilbert: int=101,\n",
    ") -> Dict:\n",
    "    bs = CooperPairBox(\"bs\", charge_energy=1/2, joseph_energy=2, \n",
    "                       ext_flux=phi_x, charge_offset=-s_z/2, dim_hilbert=dim_hilbert)\n",
    "    energies = bs.eig_energies(num_levels) + s_z**2 # It is s_z**2 given how it is implemented in CooperPairBox class\n",
    "    return energies        "
   ]
  },
  {
   "cell_type": "code",
   "execution_count": 3,
   "id": "41ab5716",
   "metadata": {},
   "outputs": [],
   "source": [
    "phi_x = np.linspace(0, 2*np.pi, 50)\n",
    "energies_dict = {}\n",
    "energies_dict[\"sz0\"] = []\n",
    "energies_dict[\"sz1\"] = []\n",
    "energies_dict[\"phi_x\"] = list(phi_x)\n",
    "num_lev = 6\n",
    "for sz in [0, 1]:\n",
    "    for phi in phi_x:\n",
    "        energies = get_energy_levels(phi, num_lev, sz)\n",
    "        energies_dict[\"sz\" + str(sz)].append(list(energies))\n",
    " "
   ]
  },
  {
   "cell_type": "code",
   "execution_count": 4,
   "id": "04e3f0d0",
   "metadata": {},
   "outputs": [],
   "source": [
    "save = True\n",
    "if save:\n",
    "    with open(\"bacon_shor_levels.txt\", \"w\") as my_file:\n",
    "        json.dump(energies_dict, my_file)"
   ]
  },
  {
   "cell_type": "code",
   "execution_count": null,
   "id": "1be06224",
   "metadata": {},
   "outputs": [],
   "source": []
  }
 ],
 "metadata": {
  "kernelspec": {
   "display_name": "transmon_fluxonium",
   "language": "python",
   "name": "transmon_fluxonium"
  },
  "language_info": {
   "codemirror_mode": {
    "name": "ipython",
    "version": 3
   },
   "file_extension": ".py",
   "mimetype": "text/x-python",
   "name": "python",
   "nbconvert_exporter": "python",
   "pygments_lexer": "ipython3",
   "version": "3.10.4"
  }
 },
 "nbformat": 4,
 "nbformat_minor": 5
}
