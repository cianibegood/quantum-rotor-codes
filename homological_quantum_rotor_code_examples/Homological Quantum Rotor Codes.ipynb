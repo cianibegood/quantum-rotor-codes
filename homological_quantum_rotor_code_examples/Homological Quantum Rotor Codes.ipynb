{
 "cells": [
  {
   "cell_type": "markdown",
   "metadata": {},
   "source": [
    "# Homological Quantum Rotor Codes\n",
    "\n",
    "In this notebook we use sage to look at examples of homological quantum rotor codes as introduced in [arXiv:2303.13723](https://arxiv.org/abs/2303.13723)"
   ]
  },
  {
   "cell_type": "markdown",
   "metadata": {},
   "source": [
    "## Real Projective Plane with Four Quantum Rotors\n",
    "First look at the example of the real projective plane with four quantum rotors, $\\mathbb{R}P^2(4)$, as drawn here:\n",
    "\n",
    "<img src=projective-plane-4.png alt=\"Real Projective Plane\" title=\"Real Projective Plane\" width=200/>\n",
    "\n",
    "We define the $H_X$ matrix from the faces and $H_Z$ from the vertices which yields\n"
   ]
  },
  {
   "cell_type": "code",
   "execution_count": 1,
   "metadata": {},
   "outputs": [],
   "source": [
    "HX_RP = matrix(ZZ, [[+1, -1, 0, 0],\n",
    "                    [0, 0, -1, +1],\n",
    "                    [-1, -1, +1, +1]])\n",
    "HZ_RP = matrix(ZZ, [[+1, +1, +1, +1],\n",
    "                    [-1, -1, -1, -1]])"
   ]
  },
  {
   "cell_type": "markdown",
   "metadata": {},
   "source": [
    "We can check that the matrices multiply to zero"
   ]
  },
  {
   "cell_type": "code",
   "execution_count": 2,
   "metadata": {},
   "outputs": [
    {
     "data": {
      "text/plain": [
       "[0 0]\n",
       "[0 0]\n",
       "[0 0]"
      ]
     },
     "execution_count": 2,
     "metadata": {},
     "output_type": "execute_result"
    }
   ],
   "source": [
    "HX_RP*HZ_RP.transpose()"
   ]
  },
  {
   "cell_type": "markdown",
   "metadata": {},
   "source": [
    "Then we build the corresponding chain complex"
   ]
  },
  {
   "cell_type": "code",
   "execution_count": 3,
   "metadata": {},
   "outputs": [
    {
     "data": {
      "text/html": [
       "<html><script type=\"math/tex; mode=display\">\\newcommand{\\Bold}[1]{\\mathbf{#1}}\\Bold{Z}^{3} \\xrightarrow{d_{2}} \\Bold{Z}^{4} \\xrightarrow{d_{1}} \\Bold{Z}^{2}</script></html>"
      ],
      "text/latex": [
       "$$\\newcommand{\\Bold}[1]{\\mathbf{#1}}\\Bold{Z}^{3} \\xrightarrow{d_{2}} \\Bold{Z}^{4} \\xrightarrow{d_{1}} \\Bold{Z}^{2}$$"
      ],
      "text/plain": [
       "Chain complex with at most 3 nonzero terms over Integer Ring"
      ]
     },
     "metadata": {},
     "output_type": "display_data"
    },
    {
     "data": {
      "text/html": [
       "<html><script type=\"math/tex; mode=display\">\\newcommand{\\Bold}[1]{\\mathbf{#1}}\\verb|d_1|\\verb| |\\verb|=| \\left(\\begin{array}{rrrr}\n",
       "1 & 1 & 1 & 1 \\\\\n",
       "-1 & -1 & -1 & -1\n",
       "\\end{array}\\right)</script></html>"
      ],
      "text/latex": [
       "$$\\newcommand{\\Bold}[1]{\\mathbf{#1}}\\verb|d_1|\\verb| |\\verb|=| \\left(\\begin{array}{rrrr}\n",
       "1 & 1 & 1 & 1 \\\\\n",
       "-1 & -1 & -1 & -1\n",
       "\\end{array}\\right)$$"
      ],
      "text/plain": [
       "'d_1 = ' [ 1  1  1  1]\n",
       "[-1 -1 -1 -1]"
      ]
     },
     "metadata": {},
     "output_type": "display_data"
    },
    {
     "data": {
      "text/html": [
       "<html><script type=\"math/tex; mode=display\">\\newcommand{\\Bold}[1]{\\mathbf{#1}}\\verb|d_2|\\verb| |\\verb|=| \\left(\\begin{array}{rrr}\n",
       "1 & 0 & -1 \\\\\n",
       "-1 & 0 & -1 \\\\\n",
       "0 & -1 & 1 \\\\\n",
       "0 & 1 & 1\n",
       "\\end{array}\\right)</script></html>"
      ],
      "text/latex": [
       "$$\\newcommand{\\Bold}[1]{\\mathbf{#1}}\\verb|d_2|\\verb| |\\verb|=| \\left(\\begin{array}{rrr}\n",
       "1 & 0 & -1 \\\\\n",
       "-1 & 0 & -1 \\\\\n",
       "0 & -1 & 1 \\\\\n",
       "0 & 1 & 1\n",
       "\\end{array}\\right)$$"
      ],
      "text/plain": [
       "'d_2 = ' [ 1  0 -1]\n",
       "[-1  0 -1]\n",
       "[ 0 -1  1]\n",
       "[ 0  1  1]"
      ]
     },
     "metadata": {},
     "output_type": "display_data"
    }
   ],
   "source": [
    "RP = ChainComplex({1: HZ_RP, 2:HX_RP.transpose()}, degree_of_differential=-1)\n",
    "pretty_print(RP)\n",
    "pretty_print('d_1 = ', RP.differential(1))\n",
    "pretty_print('d_2 = ', RP.differential(2))"
   ]
  },
  {
   "cell_type": "markdown",
   "metadata": {},
   "source": [
    "Sage can compute the integer homology and cohomology at every level ('C2' designate the cyclic group of order 2)"
   ]
  },
  {
   "cell_type": "code",
   "execution_count": 4,
   "metadata": {},
   "outputs": [
    {
     "name": "stdout",
     "output_type": "stream",
     "text": [
      "Homology:\t{0: Z, 1: C2, 2: 0}\n",
      "\n",
      "Cohomology:\t{0: Z, 1: 0, 2: C2}\n"
     ]
    }
   ],
   "source": [
    "print('Homology:\\t{}\\n'.format(RP.homology()))\n",
    "print('Cohomology:\\t{}'.format(RP.dual().homology()))"
   ]
  },
  {
   "cell_type": "markdown",
   "metadata": {},
   "source": [
    "Sage can also compute the (co)homology over any field (we just look at level 1 here)"
   ]
  },
  {
   "cell_type": "code",
   "execution_count": 5,
   "metadata": {},
   "outputs": [
    {
     "name": "stdout",
     "output_type": "stream",
     "text": [
      "Level 1 cohomology over Z:\t0\n",
      "\n",
      "Level 1 cohomology over F_2:\tVector space of dimension 1 over Finite Field of size 2\n",
      "\n",
      "Level 1 cohomology over F_3:\tVector space of dimension 0 over Finite Field of size 3\n",
      "\n",
      "Level 1 cohomology over Q:\tVector space of dimension 0 over Rational Field\n",
      "\n"
     ]
    }
   ],
   "source": [
    "print('Level 1 cohomology over Z:\\t{}\\n'.format(RP.dual().homology()[1]))\n",
    "print('Level 1 cohomology over F_2:\\t{}\\n'.format(RP.dual().homology(base_ring=GF(2))[1]))\n",
    "print('Level 1 cohomology over F_3:\\t{}\\n'.format(RP.dual().homology(base_ring=GF(3))[1]))\n",
    "print('Level 1 cohomology over Q:\\t{}\\n'.format(RP.dual().homology(base_ring=QQ)[1]))"
   ]
  },
  {
   "cell_type": "markdown",
   "metadata": {},
   "source": [
    "We can also compute the generators of the (co)homology"
   ]
  },
  {
   "cell_type": "code",
   "execution_count": 6,
   "metadata": {},
   "outputs": [
    {
     "name": "stdout",
     "output_type": "stream",
     "text": [
      "Homology(RP, Z):\tC2\n",
      "\n",
      "Generator:\t(0, -1, 1, 0)\n",
      "\n",
      "Cohomology(RP, Z_2):\tVector space of dimension 1 over Finite Field of size 2\n",
      "\n",
      "Generator:\t(0, 0, 1, 1)\n"
     ]
    }
   ],
   "source": [
    "print('Homology(RP, Z):\\t{}\\n'.format(RP.homology()[1]))\n",
    "print('Generator:\\t{}\\n'.format(RP.homology(generators=True)[1][0][1].vector(1)))\n",
    "print('Cohomology(RP, Z_2):\\t{}\\n'.format(RP.dual().homology(base_ring=GF(2))[1]))\n",
    "print('Generator:\\t{}'.format(RP.dual().homology(base_ring=GF(2), generators=True)[1][0][1].vector(1)))"
   ]
  },
  {
   "cell_type": "markdown",
   "metadata": {},
   "source": [
    "## Thin Möbius Strip\n",
    "We look now at the thin Möbius strip with rough boundaries as drawn here:\n",
    "\n",
    "<img src=thin_moebius_strip.png alt=\"Möbius strip\" title=\"Möbius strip\" width=600/>\n",
    "\n",
    "We pick $N=3$ and define again the $H_X$ matrix from the faces and $H_Z$ from the vertices which yields\n"
   ]
  },
  {
   "cell_type": "code",
   "execution_count": 7,
   "metadata": {},
   "outputs": [
    {
     "data": {
      "text/html": [
       "<html><script type=\"math/tex; mode=display\">\\newcommand{\\Bold}[1]{\\mathbf{#1}}\\Bold{Z}^{3} \\xrightarrow{d_{2}} \\Bold{Z}^{6} \\xrightarrow{d_{1}} \\Bold{Z}^{3}</script></html>"
      ],
      "text/latex": [
       "$$\\newcommand{\\Bold}[1]{\\mathbf{#1}}\\Bold{Z}^{3} \\xrightarrow{d_{2}} \\Bold{Z}^{6} \\xrightarrow{d_{1}} \\Bold{Z}^{3}$$"
      ],
      "text/plain": [
       "Chain complex with at most 3 nonzero terms over Integer Ring"
      ]
     },
     "metadata": {},
     "output_type": "display_data"
    }
   ],
   "source": [
    "HX_TM = matrix(ZZ, [[1, -1, 0, -1, 1, 0],\n",
    "                    [0, 1, -1, 0, -1, 1],\n",
    "                    [1, 0, 1, -1, 0, -1]])\n",
    "HZ_TM = matrix(ZZ, [[1, 0, 0, 1, 0, 0],\n",
    "                    [0, 1, 0, 0, 1, 0],\n",
    "                    [0, 0, 1, 0, 0, 1]])\n",
    "\n",
    "TM = ChainComplex({1: HZ_TM, 2:HX_TM.transpose()}, degree_of_differential=-1)\n",
    "pretty_print(TM)"
   ]
  },
  {
   "cell_type": "markdown",
   "metadata": {},
   "source": [
    "We check the homology and cohomology and find a logical qubit"
   ]
  },
  {
   "cell_type": "code",
   "execution_count": 8,
   "metadata": {},
   "outputs": [
    {
     "name": "stdout",
     "output_type": "stream",
     "text": [
      "Homology(TM, Z):\tC2\n",
      "\n",
      "Generator:\t(0, 0, 1, 0, 0, -1)\n",
      "\n",
      "Cohomology(TM, Z_2):\tVector space of dimension 1 over Finite Field of size 2\n",
      "\n",
      "Generator:\t(0, 0, 0, 1, 1, 1)\n"
     ]
    }
   ],
   "source": [
    "print('Homology(TM, Z):\\t{}\\n'.format(TM.homology()[1])) \n",
    "print('Generator:\\t{}\\n'.format(TM.homology(generators=True)[1][0][1].vector(1)))\n",
    "print('Cohomology(TM, Z_2):\\t{}\\n'.format(TM.dual().homology(base_ring=GF(2))[1]))\n",
    "print('Generator:\\t{}'.format(TM.dual().homology(base_ring=GF(2), generators=True)[1][0][1].vector(1)))"
   ]
  },
  {
   "cell_type": "markdown",
   "metadata": {},
   "source": [
    "## Thin Cylinder\n",
    "If we remove the twist from the previous example we get a cylinder encoding a rotor.\n",
    "To remove the twist we just change the signs of the last plaquette."
   ]
  },
  {
   "cell_type": "code",
   "execution_count": 9,
   "metadata": {},
   "outputs": [
    {
     "data": {
      "text/html": [
       "<html><script type=\"math/tex; mode=display\">\\newcommand{\\Bold}[1]{\\mathbf{#1}}\\Bold{Z}^{3} \\xrightarrow{d_{2}} \\Bold{Z}^{6} \\xrightarrow{d_{1}} \\Bold{Z}^{3}</script></html>"
      ],
      "text/latex": [
       "$$\\newcommand{\\Bold}[1]{\\mathbf{#1}}\\Bold{Z}^{3} \\xrightarrow{d_{2}} \\Bold{Z}^{6} \\xrightarrow{d_{1}} \\Bold{Z}^{3}$$"
      ],
      "text/plain": [
       "Chain complex with at most 3 nonzero terms over Integer Ring"
      ]
     },
     "metadata": {},
     "output_type": "display_data"
    }
   ],
   "source": [
    "HX_C = matrix(ZZ, [[1, -1, 0, -1, 1, 0],\n",
    "                   [0, 1, -1, 0, -1, 1],\n",
    "                   [-1, 0, 1, 1, 0, -1]])\n",
    "HZ_C = matrix(ZZ, [[1, 0, 0, 1, 0, 0],\n",
    "                   [0, 1, 0, 0, 1, 0],\n",
    "                   [0, 0, 1, 0, 0, 1]])\n",
    "\n",
    "C = ChainComplex({1: HZ_C, 2:HX_C.transpose()}, degree_of_differential=-1)\n",
    "pretty_print(C)"
   ]
  },
  {
   "cell_type": "code",
   "execution_count": 10,
   "metadata": {},
   "outputs": [
    {
     "name": "stdout",
     "output_type": "stream",
     "text": [
      "Homology(C, Z):\tZ\n",
      "\n",
      "Generator:\t(1, 0, 0, -1, 0, 0)\n",
      "\n",
      "Cohomology(C, Z):\tZ\n",
      "\n",
      "Generator:\t(1, 0, 0, 0, -1, -1)\n"
     ]
    }
   ],
   "source": [
    "print('Homology(C, Z):\\t{}'.format(C.homology()[1]))\n",
    "print('\\nGenerator:\\t{}'.format(C.homology(generators=True)[1][0][1].vector(1)))\n",
    "print('\\nCohomology(C, Z):\\t{}'.format(C.dual().homology()[1]))\n",
    "print('\\nGenerator:\\t{}'.format(C.dual().homology(generators=True)[1][0][1].vector(1)))"
   ]
  },
  {
   "cell_type": "markdown",
   "metadata": {},
   "source": [
    "## Torus\n",
    "We can check that the torus in 2D has two logical rotors"
   ]
  },
  {
   "cell_type": "code",
   "execution_count": 11,
   "metadata": {},
   "outputs": [
    {
     "data": {
      "text/html": [
       "<html><script type=\"math/tex; mode=display\">\\newcommand{\\Bold}[1]{\\mathbf{#1}}\\Bold{Z}^{14} \\xrightarrow{d_{2}} \\Bold{Z}^{21} \\xrightarrow{d_{1}} \\Bold{Z}^{7}</script></html>"
      ],
      "text/latex": [
       "$$\\newcommand{\\Bold}[1]{\\mathbf{#1}}\\Bold{Z}^{14} \\xrightarrow{d_{2}} \\Bold{Z}^{21} \\xrightarrow{d_{1}} \\Bold{Z}^{7}$$"
      ],
      "text/plain": [
       "Chain complex with at most 3 nonzero terms over Integer Ring"
      ]
     },
     "metadata": {},
     "output_type": "display_data"
    },
    {
     "name": "stdout",
     "output_type": "stream",
     "text": [
      "Homology(T2, Z):\t Z x Z\n"
     ]
    }
   ],
   "source": [
    "T2 = simplicial_complexes.Torus().chain_complex()\n",
    "pretty_print(T2)\n",
    "print('Homology(T2, Z):\\t {}'.format(T2.homology()[1]))"
   ]
  },
  {
   "cell_type": "markdown",
   "metadata": {},
   "source": [
    "## 3D Real Projective Space\n",
    "We can also check that the real projective space in 3D encodes a single qubit\n",
    "<img src=RP3.png alt=\"Real Projective Space\" title=\"Real Projective Space\" width=200/>\n"
   ]
  },
  {
   "cell_type": "code",
   "execution_count": 12,
   "metadata": {},
   "outputs": [
    {
     "data": {
      "text/html": [
       "<html><script type=\"math/tex; mode=display\">\\newcommand{\\Bold}[1]{\\mathbf{#1}}\\Bold{Z}^{40} \\xrightarrow{d_{3}} \\Bold{Z}^{80} \\xrightarrow{d_{2}} \\Bold{Z}^{51} \\xrightarrow{d_{1}} \\Bold{Z}^{11}</script></html>"
      ],
      "text/latex": [
       "$$\\newcommand{\\Bold}[1]{\\mathbf{#1}}\\Bold{Z}^{40} \\xrightarrow{d_{3}} \\Bold{Z}^{80} \\xrightarrow{d_{2}} \\Bold{Z}^{51} \\xrightarrow{d_{1}} \\Bold{Z}^{11}$$"
      ],
      "text/plain": [
       "Chain complex with at most 4 nonzero terms over Integer Ring"
      ]
     },
     "metadata": {},
     "output_type": "display_data"
    },
    {
     "name": "stdout",
     "output_type": "stream",
     "text": [
      "Homology(RP3, Z):\tC2\n",
      "Cohomology(RP3, Z_2):\tVector space of dimension 1 over Finite Field of size 2\n"
     ]
    }
   ],
   "source": [
    "RP3 = simplicial_complexes.RealProjectiveSpace(3).chain_complex()\n",
    "pretty_print(RP3)\n",
    "print('Homology(RP3, Z):\\t{}'.format(RP3.homology()[1]))\n",
    "print('Cohomology(RP3, Z_2):\\t{}'.format(RP3.dual().homology(base_ring=GF(2))[1]))"
   ]
  },
  {
   "cell_type": "markdown",
   "metadata": {},
   "source": [
    "## Product of Chain Complexes\n",
    "We now look at getting quantum rotor codes from product of chain complexes. Starting from matrices seen as chain complexes of length two we get chain complexes of length three by taking the product."
   ]
  },
  {
   "cell_type": "code",
   "execution_count": 13,
   "metadata": {},
   "outputs": [],
   "source": [
    "import numpy as np\n",
    "import numpy.random as rd\n",
    "import numpy.linalg as nplg\n",
    "\n",
    "def random_binary_code(n, k, w):\n",
    "    H = np.zeros((n - k, n), dtype='int')\n",
    "    for i in range(n - k):\n",
    "        for j in range(n):\n",
    "            if rd.rand() < w / n:\n",
    "                H[i, j] = 1\n",
    "    return H\n",
    "\n",
    "def product_from_M(M1, M2):\n",
    "    C1 = ChainComplex({1:M1}, degree_of_differential=-1)\n",
    "    C2 = ChainComplex({1:M2}, degree_of_differential=-1)\n",
    "    return C1.tensor(C2)"
   ]
  },
  {
   "cell_type": "markdown",
   "metadata": {},
   "source": [
    "Take the parity check matrix from the Hamming code, and look at it as a length two chain complex, it has free homology."
   ]
  },
  {
   "cell_type": "code",
   "execution_count": 14,
   "metadata": {},
   "outputs": [
    {
     "data": {
      "text/html": [
       "<html><script type=\"math/tex; mode=display\">\\newcommand{\\Bold}[1]{\\mathbf{#1}}\\Bold{Z}^{7} \\xrightarrow{d_{1}} \\Bold{Z}^{3}</script></html>"
      ],
      "text/latex": [
       "$$\\newcommand{\\Bold}[1]{\\mathbf{#1}}\\Bold{Z}^{7} \\xrightarrow{d_{1}} \\Bold{Z}^{3}$$"
      ],
      "text/plain": [
       "Chain complex with at most 2 nonzero terms over Integer Ring"
      ]
     },
     "metadata": {},
     "output_type": "display_data"
    },
    {
     "name": "stdout",
     "output_type": "stream",
     "text": [
      "Homology(Ham, Z):\t{0: 0, 1: Z x Z x Z x Z}\n",
      "\n",
      "Generators (G):\n",
      " [[ 1  0  0  0 -1 -1  0]\n",
      " [ 0  1  0  0  0 -1 -1]\n",
      " [ 0  0  1  0 -1 -1 -1]\n",
      " [ 0  0  0  1 -1  0 -1]]\n",
      "\n",
      "Cohomology(Ham, Z):\t{0: 0, 1: Z x Z x Z x Z}\n",
      "\n",
      "Generators (E):\n",
      " [[1 0 0 0 0 0 0]\n",
      " [0 1 0 0 0 0 0]\n",
      " [0 0 1 0 0 0 0]\n",
      " [0 0 0 0 0 0 1]]\n"
     ]
    }
   ],
   "source": [
    "Ham = matrix(ZZ, [[1, 1, 1, 0, 0, 1, 0],\n",
    "                  [0, 1, 1, 1, 0, 0, 1],\n",
    "                  [1, 0, 1, 1, 1, 0, 0]])\n",
    "\n",
    "CC_Ham = ChainComplex({1: Ham}, degree_of_differential=-1)\n",
    "\n",
    "pretty_print(CC_Ham)\n",
    "\n",
    "print('Homology(Ham, Z):\\t{}'.format(CC_Ham.homology()))\n",
    "\n",
    "G = np.array([g[1].vector(1) for g in CC_Ham.homology(generators=True)[1][:]])\n",
    "print('\\nGenerators (G):\\n {}'.format(G))\n",
    "\n",
    "print('\\nCohomology(Ham, Z):\\t{}'.format(CC_Ham.dual().homology()))\n",
    "\n",
    "E = np.array([g[1].vector(1) for g in CC_Ham.dual().homology(generators=True)[1][:]])\n",
    "print('\\nGenerators (E):\\n {}'.format(E))"
   ]
  },
  {
   "cell_type": "markdown",
   "metadata": {},
   "source": [
    "Look at the square symetric matrix obtained from the Hamming parity check matrix: SHam = Ham^T Ham. As a length two chain complex it has only torsion homology."
   ]
  },
  {
   "cell_type": "code",
   "execution_count": 15,
   "metadata": {},
   "outputs": [
    {
     "data": {
      "text/html": [
       "<html><script type=\"math/tex; mode=display\">\\newcommand{\\Bold}[1]{\\mathbf{#1}}\\left(\\begin{array}{rrrrrrr}\n",
       "0 & 1 & 0 & 1 & 1 & 1 & 0 \\\\\n",
       "1 & 0 & 0 & 1 & 0 & 1 & 1 \\\\\n",
       "0 & 0 & 1 & 0 & 1 & 1 & 1 \\\\\n",
       "1 & 1 & 0 & 0 & 1 & 0 & 1 \\\\\n",
       "1 & 0 & 1 & 1 & 1 & 0 & 0 \\\\\n",
       "1 & 1 & 1 & 0 & 0 & 1 & 0 \\\\\n",
       "0 & 1 & 1 & 1 & 0 & 0 & 1\n",
       "\\end{array}\\right)</script></html>"
      ],
      "text/latex": [
       "$$\\newcommand{\\Bold}[1]{\\mathbf{#1}}\\left(\\begin{array}{rrrrrrr}\n",
       "0 & 1 & 0 & 1 & 1 & 1 & 0 \\\\\n",
       "1 & 0 & 0 & 1 & 0 & 1 & 1 \\\\\n",
       "0 & 0 & 1 & 0 & 1 & 1 & 1 \\\\\n",
       "1 & 1 & 0 & 0 & 1 & 0 & 1 \\\\\n",
       "1 & 0 & 1 & 1 & 1 & 0 & 0 \\\\\n",
       "1 & 1 & 1 & 0 & 0 & 1 & 0 \\\\\n",
       "0 & 1 & 1 & 1 & 0 & 0 & 1\n",
       "\\end{array}\\right)$$"
      ],
      "text/plain": [
       "[0 1 0 1 1 1 0]\n",
       "[1 0 0 1 0 1 1]\n",
       "[0 0 1 0 1 1 1]\n",
       "[1 1 0 0 1 0 1]\n",
       "[1 0 1 1 1 0 0]\n",
       "[1 1 1 0 0 1 0]\n",
       "[0 1 1 1 0 0 1]"
      ]
     },
     "metadata": {},
     "output_type": "display_data"
    },
    {
     "data": {
      "text/html": [
       "<html><script type=\"math/tex; mode=display\">\\newcommand{\\Bold}[1]{\\mathbf{#1}}\\Bold{Z}^{7} \\xrightarrow{d_{1}} \\Bold{Z}^{7}</script></html>"
      ],
      "text/latex": [
       "$$\\newcommand{\\Bold}[1]{\\mathbf{#1}}\\Bold{Z}^{7} \\xrightarrow{d_{1}} \\Bold{Z}^{7}$$"
      ],
      "text/plain": [
       "Chain complex with at most 2 nonzero terms over Integer Ring"
      ]
     },
     "metadata": {},
     "output_type": "display_data"
    },
    {
     "name": "stdout",
     "output_type": "stream",
     "text": [
      "\n",
      "Homology(SHam, Z):\t{0: C2 x C2 x C2 x C4, 1: 0}\n",
      "\n",
      "Generators (Eprime):\n",
      " [[0 0 0 1 0 0 1]\n",
      " [0 0 0 0 1 0 1]\n",
      " [0 0 0 0 0 1 1]\n",
      " [0 0 0 0 0 0 1]]\n"
     ]
    }
   ],
   "source": [
    "SHam = Ham.transpose()*Ham % 2\n",
    "pretty_print(SHam)\n",
    "\n",
    "CC_SHam = ChainComplex({1: SHam}, degree_of_differential=-1)\n",
    "\n",
    "pretty_print(CC_SHam)\n",
    "\n",
    "print('\\nHomology(SHam, Z):\\t{}'.format(CC_SHam.homology()))\n",
    "\n",
    "Eprime = np.array([g[1].vector(0) for g in CC_SHam.homology(generators=True)[0][:]])\n",
    "print('\\nGenerators (Eprime):\\n {}'.format(Eprime))\n"
   ]
  },
  {
   "cell_type": "markdown",
   "metadata": {},
   "source": [
    "### Free+Free Product: Logical Rotors\n",
    "We can now look at products, starting with a product with only free homology yielding a quantum rotor code encoding logical rotors"
   ]
  },
  {
   "cell_type": "code",
   "execution_count": 16,
   "metadata": {},
   "outputs": [
    {
     "name": "stdout",
     "output_type": "stream",
     "text": [
      "Homology(FF, Z):\tZ^16\n"
     ]
    }
   ],
   "source": [
    "FF = product_from_M(Ham, Ham.transpose())\n",
    "print('Homology(FF, Z):\\t{}'.format(FF.homology()[1]))"
   ]
  },
  {
   "cell_type": "markdown",
   "metadata": {},
   "source": [
    "### Free+Torsion Product\n",
    "The product of free homology with torsion keeps the torsion, it gives a quantum rotor codes encoding logical qudits"
   ]
  },
  {
   "cell_type": "code",
   "execution_count": 17,
   "metadata": {},
   "outputs": [
    {
     "name": "stdout",
     "output_type": "stream",
     "text": [
      "Homology(FT, Z):\tC2^12 x C4 x C4 x C4 x C4\n"
     ]
    }
   ],
   "source": [
    "FT = product_from_M(Ham, SHam)\n",
    "print('Homology(FT, Z):\\t{}'.format(FT.homology()[1]))"
   ]
  },
  {
   "cell_type": "markdown",
   "metadata": {},
   "source": [
    "### Torsion+Torsion Product\n",
    "The product of torsion with torsion keeps only the common torsion"
   ]
  },
  {
   "cell_type": "code",
   "execution_count": 18,
   "metadata": {},
   "outputs": [
    {
     "name": "stdout",
     "output_type": "stream",
     "text": [
      "Homology(TT, Z):\tC2^15 x C4\n"
     ]
    }
   ],
   "source": [
    "TT = product_from_M(SHam, SHam)\n",
    "print('Homology(TT, Z):\\t{}'.format(TT.homology()[1]))"
   ]
  },
  {
   "cell_type": "markdown",
   "metadata": {},
   "source": [
    "### Random matrices\n",
    "\n",
    "We can do the same by first picking the initial classical binary code at random."
   ]
  },
  {
   "cell_type": "code",
   "execution_count": 19,
   "metadata": {},
   "outputs": [],
   "source": [
    "m = 18\n",
    "w = 5\n",
    "\n",
    "rankMrand = 0\n",
    "while rankMrand < m:\n",
    "    Hrand = random_binary_code(m,int(m/3),w)\n",
    "    Mrand = (Hrand.transpose()@Hrand % 2)\n",
    "    rankMrand = nplg.matrix_rank(Mrand)"
   ]
  },
  {
   "cell_type": "markdown",
   "metadata": {},
   "source": [
    "We check that the rectangular parity check matrix exhibits free homology."
   ]
  },
  {
   "cell_type": "code",
   "execution_count": 20,
   "metadata": {
    "scrolled": true
   },
   "outputs": [
    {
     "data": {
      "text/html": [
       "<html><script type=\"math/tex; mode=display\">\\newcommand{\\Bold}[1]{\\mathbf{#1}}\\Bold{Z}^{18} \\xrightarrow{d_{1}} \\Bold{Z}^{12}</script></html>"
      ],
      "text/latex": [
       "$$\\newcommand{\\Bold}[1]{\\mathbf{#1}}\\Bold{Z}^{18} \\xrightarrow{d_{1}} \\Bold{Z}^{12}$$"
      ],
      "text/plain": [
       "Chain complex with at most 2 nonzero terms over Integer Ring"
      ]
     },
     "metadata": {},
     "output_type": "display_data"
    },
    {
     "name": "stdout",
     "output_type": "stream",
     "text": [
      "Homology(Hrand, Z):\t{0: 0, 1: Z^6}\n",
      "\n",
      "Cohomology(Hrand, Z):\t{0: 0, 1: Z^6}\n"
     ]
    }
   ],
   "source": [
    "CC_Hrand = ChainComplex({1: Matrix(ZZ, Hrand)}, degree_of_differential=-1)\n",
    "\n",
    "pretty_print(CC_Hrand)\n",
    "\n",
    "print('Homology(Hrand, Z):\\t{}'.format(CC_Hrand.homology()))\n",
    "\n",
    "print('\\nCohomology(Hrand, Z):\\t{}'.format(CC_Hrand.dual().homology()))"
   ]
  },
  {
   "cell_type": "markdown",
   "metadata": {},
   "source": [
    "We also check that the corresponding square matrix has only torsion"
   ]
  },
  {
   "cell_type": "code",
   "execution_count": 21,
   "metadata": {},
   "outputs": [
    {
     "data": {
      "text/html": [
       "<html><script type=\"math/tex; mode=display\">\\newcommand{\\Bold}[1]{\\mathbf{#1}}\\Bold{Z}^{18} \\xrightarrow{d_{1}} \\Bold{Z}^{18}</script></html>"
      ],
      "text/latex": [
       "$$\\newcommand{\\Bold}[1]{\\mathbf{#1}}\\Bold{Z}^{18} \\xrightarrow{d_{1}} \\Bold{Z}^{18}$$"
      ],
      "text/plain": [
       "Chain complex with at most 2 nonzero terms over Integer Ring"
      ]
     },
     "metadata": {},
     "output_type": "display_data"
    },
    {
     "name": "stdout",
     "output_type": "stream",
     "text": [
      "Homology(SHam, Z): {0: C2^5 x C28, 1: 0}\n"
     ]
    }
   ],
   "source": [
    "CC_Mrand = ChainComplex({1: Matrix(ZZ, Mrand)}, degree_of_differential=-1)\n",
    "\n",
    "pretty_print(CC_Mrand)\n",
    "\n",
    "print('Homology(SHam, Z): {}'.format(CC_Mrand.homology()))\n"
   ]
  },
  {
   "cell_type": "markdown",
   "metadata": {},
   "source": [
    "### Free+Free Product"
   ]
  },
  {
   "cell_type": "code",
   "execution_count": 22,
   "metadata": {},
   "outputs": [
    {
     "data": {
      "text/html": [
       "<html><script type=\"math/tex; mode=display\">\\newcommand{\\Bold}[1]{\\mathbf{#1}}\\Bold{Z}^{216} \\xrightarrow{d_{2}} \\Bold{Z}^{468} \\xrightarrow{d_{1}} \\Bold{Z}^{216}</script></html>"
      ],
      "text/latex": [
       "$$\\newcommand{\\Bold}[1]{\\mathbf{#1}}\\Bold{Z}^{216} \\xrightarrow{d_{2}} \\Bold{Z}^{468} \\xrightarrow{d_{1}} \\Bold{Z}^{216}$$"
      ],
      "text/plain": [
       "Chain complex with at most 3 nonzero terms over Integer Ring"
      ]
     },
     "metadata": {},
     "output_type": "display_data"
    },
    {
     "name": "stdout",
     "output_type": "stream",
     "text": [
      "Homology(FFrand, Z): Z^36\n"
     ]
    }
   ],
   "source": [
    "FFrand = product_from_M(Matrix(ZZ, Hrand), Matrix(ZZ, Hrand.transpose()))\n",
    "pretty_print(FFrand)\n",
    "print('Homology(FFrand, Z): {}'.format(FFrand.homology()[1]))"
   ]
  },
  {
   "cell_type": "markdown",
   "metadata": {},
   "source": [
    "### Free+Torsion Product"
   ]
  },
  {
   "cell_type": "code",
   "execution_count": 23,
   "metadata": {},
   "outputs": [
    {
     "data": {
      "text/html": [
       "<html><script type=\"math/tex; mode=display\">\\newcommand{\\Bold}[1]{\\mathbf{#1}}\\Bold{Z}^{324} \\xrightarrow{d_{2}} \\Bold{Z}^{540} \\xrightarrow{d_{1}} \\Bold{Z}^{216}</script></html>"
      ],
      "text/latex": [
       "$$\\newcommand{\\Bold}[1]{\\mathbf{#1}}\\Bold{Z}^{324} \\xrightarrow{d_{2}} \\Bold{Z}^{540} \\xrightarrow{d_{1}} \\Bold{Z}^{216}$$"
      ],
      "text/plain": [
       "Chain complex with at most 3 nonzero terms over Integer Ring"
      ]
     },
     "metadata": {},
     "output_type": "display_data"
    },
    {
     "name": "stdout",
     "output_type": "stream",
     "text": [
      "Homology(FTrand, Z): C2^30 x C28^6\n"
     ]
    }
   ],
   "source": [
    "FTrand = product_from_M(Matrix(ZZ, Hrand), Matrix(ZZ, Mrand))\n",
    "pretty_print(FTrand)\n",
    "print('Homology(FTrand, Z): {}'.format(FTrand.homology()[1]))"
   ]
  },
  {
   "cell_type": "markdown",
   "metadata": {},
   "source": [
    "### Torsion+Torsion Product"
   ]
  },
  {
   "cell_type": "code",
   "execution_count": 24,
   "metadata": {},
   "outputs": [
    {
     "data": {
      "text/html": [
       "<html><script type=\"math/tex; mode=display\">\\newcommand{\\Bold}[1]{\\mathbf{#1}}\\Bold{Z}^{18} \\xrightarrow{d_{1}} \\Bold{Z}^{18}</script></html>"
      ],
      "text/latex": [
       "$$\\newcommand{\\Bold}[1]{\\mathbf{#1}}\\Bold{Z}^{18} \\xrightarrow{d_{1}} \\Bold{Z}^{18}$$"
      ],
      "text/plain": [
       "Chain complex with at most 2 nonzero terms over Integer Ring"
      ]
     },
     "metadata": {},
     "output_type": "display_data"
    },
    {
     "name": "stdout",
     "output_type": "stream",
     "text": [
      "Homology(Mrand2, Z): {0: C2^5 x C102, 1: 0}\n"
     ]
    },
    {
     "data": {
      "text/html": [
       "<html><script type=\"math/tex; mode=display\">\\newcommand{\\Bold}[1]{\\mathbf{#1}}\\Bold{Z}^{324} \\xrightarrow{d_{2}} \\Bold{Z}^{648} \\xrightarrow{d_{1}} \\Bold{Z}^{324}</script></html>"
      ],
      "text/latex": [
       "$$\\newcommand{\\Bold}[1]{\\mathbf{#1}}\\Bold{Z}^{324} \\xrightarrow{d_{2}} \\Bold{Z}^{648} \\xrightarrow{d_{1}} \\Bold{Z}^{324}$$"
      ],
      "text/plain": [
       "Chain complex with at most 3 nonzero terms over Integer Ring"
      ]
     },
     "metadata": {},
     "output_type": "display_data"
    },
    {
     "name": "stdout",
     "output_type": "stream",
     "text": [
      "Homology(TTrand, Z): C2^36\n"
     ]
    }
   ],
   "source": [
    "rankMrand2 = 0\n",
    "while rankMrand2 < m:\n",
    "    Hrand2 = random_binary_code(m,int(m/3),w)\n",
    "    Mrand2 = (Hrand2.transpose()@Hrand2 % 2)\n",
    "    rankMrand2 = nplg.matrix_rank(Mrand2)\n",
    "\n",
    "CC_Mrand2 = ChainComplex({1: Matrix(ZZ, Mrand2)}, degree_of_differential=-1)\n",
    "\n",
    "pretty_print(CC_Mrand2)\n",
    "\n",
    "print('Homology(Mrand2, Z): {}'.format(CC_Mrand2.homology()))\n",
    "\n",
    "TTrand = product_from_M(Matrix(ZZ, Mrand), Matrix(ZZ, Mrand2))\n",
    "pretty_print(TTrand)\n",
    "print('Homology(TTrand, Z): {}'.format(TTrand.homology()[1]))"
   ]
  }
 ],
 "metadata": {
  "kernelspec": {
   "display_name": "SageMath 9.0",
   "language": "sage",
   "name": "sagemath"
  },
  "language_info": {
   "codemirror_mode": {
    "name": "ipython",
    "version": 3
   },
   "file_extension": ".py",
   "mimetype": "text/x-python",
   "name": "python",
   "nbconvert_exporter": "python",
   "pygments_lexer": "ipython3",
   "version": "3.8.10"
  }
 },
 "nbformat": 4,
 "nbformat_minor": 4
}
